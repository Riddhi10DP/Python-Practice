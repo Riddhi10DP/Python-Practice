{
 "cells": [
  {
   "cell_type": "markdown",
   "metadata": {},
   "source": [
    "## FILE I/O"
   ]
  },
  {
   "cell_type": "code",
   "execution_count": 2,
   "metadata": {},
   "outputs": [
    {
     "name": "stdout",
     "output_type": "stream",
     "text": [
      "Hello, riddhi\n"
     ]
    }
   ],
   "source": [
    "name = input(\"Enter your name \")\n",
    "print(f\"Hello, {name}\")"
   ]
  },
  {
   "cell_type": "code",
   "execution_count": 2,
   "metadata": {},
   "outputs": [
    {
     "name": "stdout",
     "output_type": "stream",
     "text": [
      "Hello, riddhi\n",
      "Hello, sahil\n",
      "Hello, uno\n"
     ]
    }
   ],
   "source": [
    "names = []\n",
    "\n",
    "for i in range(3):\n",
    "    name = input(\"Enter 3 Names \")\n",
    "    names.append(name)\n",
    "\n",
    "for name in sorted(names):\n",
    "    print(f\"Hello, {name}\")"
   ]
  },
  {
   "cell_type": "code",
   "execution_count": 8,
   "metadata": {},
   "outputs": [],
   "source": [
    "name = input(\"Enter your name \")\n",
    "\n",
    "file = open(\"names.txt\",\"w\")\n",
    "file.write(name)\n",
    "file.close()"
   ]
  },
  {
   "cell_type": "markdown",
   "metadata": {},
   "source": [
    "### Keep in mind, open will overwrite the file, so if you want to keep adding names to the python text file, you need to append instead of write - use \"a\" instead of \"w\""
   ]
  },
  {
   "cell_type": "code",
   "execution_count": null,
   "metadata": {},
   "outputs": [],
   "source": [
    "# so now we use it for append\n",
    "\n",
    "name = input(\"what is your name? \")\n",
    "\n",
    "file = open(\"names.txt\",\"a\")\n",
    "file.write(f\"{name}\\n\")\n",
    "file.close()"
   ]
  },
  {
   "cell_type": "markdown",
   "metadata": {},
   "source": [
    "## WITH- Instead of File you can also use a function called with"
   ]
  },
  {
   "cell_type": "markdown",
   "metadata": {},
   "source": [
    "#### It automatically opens and closes the file:"
   ]
  },
  {
   "cell_type": "code",
   "execution_count": 4,
   "metadata": {},
   "outputs": [],
   "source": [
    "name  = input(\"Enter your name: \")\n",
    "\n",
    "with open(\"names.txt\",\"a\") as f:\n",
    "    f.write(f\"{name}\\n\") ##here we do not need close function\n",
    "\n",
    "    "
   ]
  },
  {
   "cell_type": "markdown",
   "metadata": {},
   "source": [
    "## READ the file"
   ]
  },
  {
   "cell_type": "code",
   "execution_count": 5,
   "metadata": {},
   "outputs": [
    {
     "name": "stdout",
     "output_type": "stream",
     "text": [
      "riddhi\n",
      "heyli\n"
     ]
    }
   ],
   "source": [
    "with open(\"names.txt\", \"r\") as f:\n",
    "    lines = f.readlines()\n",
    "\n",
    "for line in lines:\n",
    "    print(line , end =\"\")\n"
   ]
  },
  {
   "cell_type": "markdown",
   "metadata": {},
   "source": [
    "### Sort the names before printing them out"
   ]
  },
  {
   "cell_type": "code",
   "execution_count": 8,
   "metadata": {},
   "outputs": [
    {
     "name": "stdout",
     "output_type": "stream",
     "text": [
      "hello, heyli\n",
      "hello, riddhi\n"
     ]
    }
   ],
   "source": [
    "names = []\n",
    "\n",
    "with open(\"names.txt\", \"r\") as f:\n",
    "    for line in f:\n",
    "        names.append(line.rstrip())\n",
    "\n",
    "for name in sorted(names):\n",
    "    print(f\"hello, {name}\")\n",
    "    "
   ]
  },
  {
   "cell_type": "code",
   "execution_count": 10,
   "metadata": {},
   "outputs": [
    {
     "name": "stdout",
     "output_type": "stream",
     "text": [
      "hello heyli\n",
      "hello riddhi\n"
     ]
    }
   ],
   "source": [
    "### Better way to do the above\n",
    "\n",
    "with open(\"names.txt\", \"r\") as f:\n",
    "    for line in sorted(f):\n",
    "        print(\"hello\", line.rstrip())"
   ]
  },
  {
   "cell_type": "markdown",
   "metadata": {},
   "source": [
    "#### if the file has anything split by comma, for example in a CSV file, you may want to iterate over the file something like this"
   ]
  },
  {
   "cell_type": "code",
   "execution_count": null,
   "metadata": {},
   "outputs": [],
   "source": [
    "##METHOD 1:  we are assuming that the namely.csv file has 2 \n",
    "# columns names and house they \n",
    "# belong to\n",
    "\n",
    "with open(\"namely.csv\") as f:\n",
    "    for line in f:\n",
    "        row = line.rstrip().split(\",\")\n",
    "        print(f\"{row[0]} is in class {row[1]}\")\n",
    "\n",
    "\n",
    "## METHOD 2:\n",
    "with open(\"namely.csv\") as f:\n",
    "    for line in f:\n",
    "        name, house = line.rstrip().split(\",\")\n",
    "        print(f\"{name} is in class {house}\")\n"
   ]
  },
  {
   "cell_type": "code",
   "execution_count": 3,
   "metadata": {},
   "outputs": [
    {
     "ename": "FileNotFoundError",
     "evalue": "[Errno 2] No such file or directory: 'namely.csv'",
     "output_type": "error",
     "traceback": [
      "\u001b[1;31m---------------------------------------------------------------------------\u001b[0m",
      "\u001b[1;31mFileNotFoundError\u001b[0m                         Traceback (most recent call last)",
      "Cell \u001b[1;32mIn[3], line 3\u001b[0m\n\u001b[0;32m      1\u001b[0m names\u001b[38;5;241m=\u001b[39m[]\n\u001b[1;32m----> 3\u001b[0m \u001b[38;5;28;01mwith\u001b[39;00m \u001b[38;5;28;43mopen\u001b[39;49m\u001b[43m(\u001b[49m\u001b[38;5;124;43m\"\u001b[39;49m\u001b[38;5;124;43mnamely.csv\u001b[39;49m\u001b[38;5;124;43m\"\u001b[39;49m\u001b[43m)\u001b[49m \u001b[38;5;28;01mas\u001b[39;00m file:\n\u001b[0;32m      4\u001b[0m     \u001b[38;5;28;01mfor\u001b[39;00m line \u001b[38;5;129;01min\u001b[39;00m file:\n\u001b[0;32m      5\u001b[0m         name,house \u001b[38;5;241m=\u001b[39m line\u001b[38;5;241m.\u001b[39msplit(\u001b[38;5;124m\"\u001b[39m\u001b[38;5;124m,\u001b[39m\u001b[38;5;124m\"\u001b[39m)\n",
      "File \u001b[1;32m~\\AppData\\Roaming\\Python\\Python311\\site-packages\\IPython\\core\\interactiveshell.py:324\u001b[0m, in \u001b[0;36m_modified_open\u001b[1;34m(file, *args, **kwargs)\u001b[0m\n\u001b[0;32m    317\u001b[0m \u001b[38;5;28;01mif\u001b[39;00m file \u001b[38;5;129;01min\u001b[39;00m {\u001b[38;5;241m0\u001b[39m, \u001b[38;5;241m1\u001b[39m, \u001b[38;5;241m2\u001b[39m}:\n\u001b[0;32m    318\u001b[0m     \u001b[38;5;28;01mraise\u001b[39;00m \u001b[38;5;167;01mValueError\u001b[39;00m(\n\u001b[0;32m    319\u001b[0m         \u001b[38;5;124mf\u001b[39m\u001b[38;5;124m\"\u001b[39m\u001b[38;5;124mIPython won\u001b[39m\u001b[38;5;124m'\u001b[39m\u001b[38;5;124mt let you open fd=\u001b[39m\u001b[38;5;132;01m{\u001b[39;00mfile\u001b[38;5;132;01m}\u001b[39;00m\u001b[38;5;124m by default \u001b[39m\u001b[38;5;124m\"\u001b[39m\n\u001b[0;32m    320\u001b[0m         \u001b[38;5;124m\"\u001b[39m\u001b[38;5;124mas it is likely to crash IPython. If you know what you are doing, \u001b[39m\u001b[38;5;124m\"\u001b[39m\n\u001b[0;32m    321\u001b[0m         \u001b[38;5;124m\"\u001b[39m\u001b[38;5;124myou can use builtins\u001b[39m\u001b[38;5;124m'\u001b[39m\u001b[38;5;124m open.\u001b[39m\u001b[38;5;124m\"\u001b[39m\n\u001b[0;32m    322\u001b[0m     )\n\u001b[1;32m--> 324\u001b[0m \u001b[38;5;28;01mreturn\u001b[39;00m \u001b[43mio_open\u001b[49m\u001b[43m(\u001b[49m\u001b[43mfile\u001b[49m\u001b[43m,\u001b[49m\u001b[43m \u001b[49m\u001b[38;5;241;43m*\u001b[39;49m\u001b[43margs\u001b[49m\u001b[43m,\u001b[49m\u001b[43m \u001b[49m\u001b[38;5;241;43m*\u001b[39;49m\u001b[38;5;241;43m*\u001b[39;49m\u001b[43mkwargs\u001b[49m\u001b[43m)\u001b[49m\n",
      "\u001b[1;31mFileNotFoundError\u001b[0m: [Errno 2] No such file or directory: 'namely.csv'"
     ]
    }
   ],
   "source": [
    "\n",
    "names=[]\n",
    "\n",
    "with open(\"namely.csv\") as file:\n",
    "    for line in file:\n",
    "        name,house = line.split(\",\")\n",
    "        student= {\"name\": name,\"house\": house}\n",
    "        names.append(student)\n",
    "\n",
    "for student in sorted(names, key=lambda student: student[\"name\"]):\n",
    "    print(f\"{student['name']} is in {student['house']}\")\n"
   ]
  },
  {
   "cell_type": "code",
   "execution_count": 2,
   "metadata": {},
   "outputs": [],
   "source": [
    "import csv"
   ]
  },
  {
   "cell_type": "code",
   "execution_count": 3,
   "metadata": {},
   "outputs": [],
   "source": [
    "name = input(\"enter name: \")\n",
    "home = input(\"Enter home: \")\n",
    "\n",
    "with open(\"names.csv\", \"a\") as file:\n",
    "    a = csv.writer(file)\n",
    "    a.writerow([name,home])"
   ]
  },
  {
   "cell_type": "code",
   "execution_count": 6,
   "metadata": {},
   "outputs": [],
   "source": [
    "name = input(\"enter name: \")\n",
    "home = input(\"Enter home: \")\n",
    "\n",
    "with open(\"names.csv\", \"a\") as file:\n",
    "    a = csv.DictWriter(file, fieldnames=[\"name\",\"home\"])\n",
    "    a.writerow({\"name\":name,\"home\":home})"
   ]
  },
  {
   "cell_type": "markdown",
   "metadata": {},
   "source": [
    "### PIL- Image files"
   ]
  },
  {
   "cell_type": "markdown",
   "metadata": {},
   "source": [
    "#### Refer to costumes.py"
   ]
  },
  {
   "cell_type": "markdown",
   "metadata": {},
   "source": [
    "### Regex"
   ]
  },
  {
   "cell_type": "code",
   "execution_count": 7,
   "metadata": {},
   "outputs": [],
   "source": [
    "##Validate email address"
   ]
  },
  {
   "cell_type": "code",
   "execution_count": 8,
   "metadata": {},
   "outputs": [
    {
     "name": "stdout",
     "output_type": "stream",
     "text": [
      "Valid\n"
     ]
    }
   ],
   "source": [
    "email = input(\"Enter email: \").strip()\n",
    "if \"@\" in email:\n",
    "    print(\"Valid\")\n",
    "else:\n",
    "    print(\"Invalid\")"
   ]
  },
  {
   "cell_type": "code",
   "execution_count": null,
   "metadata": {},
   "outputs": [],
   "source": [
    "#Check for dot in email as well:\n",
    "\n",
    "email = input(\"Enter email: \").strip()\n",
    "if \"@\" in email and \".\" in email:\n",
    "    print(\"Valid\")\n",
    "else:\n",
    "    print(\"Invalid\")"
   ]
  },
  {
   "cell_type": "code",
   "execution_count": 9,
   "metadata": {},
   "outputs": [
    {
     "name": "stdout",
     "output_type": "stream",
     "text": [
      "Valid\n"
     ]
    }
   ],
   "source": [
    "email = input(\"Enter email: \").strip()\n",
    "\n",
    "uname,domain = email.split(\"@\")\n",
    "if (uname) and (\".\" in domain):\n",
    "    ## or we can use domain.endswith(\".edu\")\n",
    "    print(\"Valid\")\n",
    "else:\n",
    "    print(\"Invalid\")"
   ]
  },
  {
   "cell_type": "markdown",
   "metadata": {},
   "source": [
    "#### Improve for email address checks :\n",
    "#### Use re library instead"
   ]
  },
  {
   "cell_type": "markdown",
   "metadata": {},
   "source": [
    "#### List of regex: \n",
    ". \".\" means any character before/after\n",
    ". \"*\" means 0 or more repetition \n",
    ". \"+\" mean 1 or more repitition\n",
    ". \"?\" 0 OR 1 repetition\n",
    ". {m} -  m repetitions\n",
    ". {m,n}- m-n repetetion\n",
    "\n",
    "#### \"^\" - matches the start of the string \n",
    "#### \"$\" matches the end of the string just before newline\n"
   ]
  },
  {
   "cell_type": "code",
   "execution_count": 5,
   "metadata": {},
   "outputs": [
    {
     "name": "stdout",
     "output_type": "stream",
     "text": [
      "Valid\n"
     ]
    }
   ],
   "source": [
    "# re.search(patter, string, flags=0)\n",
    "\n",
    "import re\n",
    "\n",
    "email = input(\"email please: \").strip()\n",
    "\n",
    "if re.search(r\".+@.+\\.edu\", email):\n",
    "    print(\"Valid\")\n",
    "else:\n",
    "    print(\"invalid\")\n",
    "\n",
    "\n"
   ]
  },
  {
   "cell_type": "code",
   "execution_count": 15,
   "metadata": {},
   "outputs": [
    {
     "name": "stdout",
     "output_type": "stream",
     "text": [
      "Valid\n"
     ]
    }
   ],
   "source": [
    "## WITH THE START AND END OF THE STRING VALUES:\n",
    "## [^@]  --- Complementing set --Means we want anything except @\n",
    "## - any other character\n",
    "\n",
    "\n",
    "import re\n",
    "\n",
    "email = input(\"email please: \").strip()\n",
    "\n",
    "if re.search(r\"^[^@]+@[^@]+\\.edu$\", email):\n",
    "    print(\"Valid\")\n",
    "else:\n",
    "    print(\"invalid\")"
   ]
  },
  {
   "cell_type": "code",
   "execution_count": null,
   "metadata": {},
   "outputs": [],
   "source": [
    "## USE ANY CHARACTER OR NUMBER IN THE EMAIL BEFORE AND AFTER DOMAIN\n",
    "\n",
    "import re\n",
    "\n",
    "email = input(\"email please: \").strip().lower()\n",
    "\n",
    "if re.search(r\"^[a-zA-Z0-9_]+@[a-zA-Z0-9_]+\\.(com|edu|gmail|hotmail|yahoo)$\", email, re.IGNORECASE):\n",
    "    ## or I can write if re.search(r\"^\\w+@\\w+\\.edu$\", email) --/\\w means any word/number\n",
    "    print(\"Valid\")\n",
    "else:\n",
    "    print(\"invalid\")"
   ]
  },
  {
   "cell_type": "code",
   "execution_count": null,
   "metadata": {},
   "outputs": [],
   "source": [
    "## A|B-- A or B \n",
    "## (...)-- means group\n",
    "## "
   ]
  },
  {
   "cell_type": "markdown",
   "metadata": {},
   "source": [
    "### Format users input"
   ]
  },
  {
   "cell_type": "code",
   "execution_count": null,
   "metadata": {},
   "outputs": [],
   "source": [
    "name = (\"enter name: \").strip()\n",
    "\n",
    "if \",\" in name:\n",
    "   \n",
    "    last,first = name.split(\",\")\n",
    "    name = f\"{first} {last}\"\n",
    "print(f\"hello, {name}\")\n"
   ]
  },
  {
   "cell_type": "code",
   "execution_count": 20,
   "metadata": {},
   "outputs": [
    {
     "name": "stdout",
     "output_type": "stream",
     "text": [
      "hello,  riddhi dev\n"
     ]
    }
   ],
   "source": [
    "## (...)  can be used to capture information what ever the use has entered. \n",
    "## it returns a value\n",
    "\n",
    "import re\n",
    "\n",
    "name = input(\"enter name: \").strip()\n",
    "\n",
    "matches = re.search(r\"^(.+), ?(.+)$\", name)\n",
    "\n",
    "if matches: # returns value of matches if there is any value or returns null then skips the loop\n",
    "        last,first = matches.groups()\n",
    "        ## or you can use: name = matches.group(2) + \"\" + matches.group(1)\n",
    "        name = f\"{first} {last}\"\n",
    "\n",
    "print(f\"hello, {name}\")"
   ]
  },
  {
   "cell_type": "markdown",
   "metadata": {},
   "source": [
    "#### Walrus operator\n",
    "#### :="
   ]
  },
  {
   "cell_type": "code",
   "execution_count": null,
   "metadata": {},
   "outputs": [],
   "source": [
    "url = input(\"enter url: \").strip()\n",
    "\n",
    "uname = url.replace(\"https://twitter.com/\",\"\")\n",
    "print(f\"Username is: {uname}\")\n",
    "\n"
   ]
  },
  {
   "cell_type": "markdown",
   "metadata": {},
   "source": [
    "### Use re.sub for regex find replace/substitute values etc"
   ]
  },
  {
   "cell_type": "code",
   "execution_count": null,
   "metadata": {},
   "outputs": [],
   "source": [
    "import re\n",
    "url = input(\"enter url: \").strip()\n",
    "\n",
    "uname = re.sub(r\"^https?://(www\\.)?twitter\\.com/\",\"\", url)\n",
    "\n",
    "print(f\"Username is: {uname}\")"
   ]
  },
  {
   "cell_type": "code",
   "execution_count": null,
   "metadata": {},
   "outputs": [],
   "source": [
    "import re\n",
    "url = input(\"enter url: \").strip()\n",
    "\n",
    "matches= re.search(r\"^https?://(www\\.)?twitter\\.com/.+$\", url, re.IGNORECASE)\n",
    "\n",
    "if matches:\n",
    "    print(f\"username is: \", matches.group(2))\n",
    "\n"
   ]
  },
  {
   "cell_type": "markdown",
   "metadata": {},
   "source": [
    "## Object Oriented Programming OOP"
   ]
  },
  {
   "cell_type": "code",
   "execution_count": 1,
   "metadata": {},
   "outputs": [
    {
     "name": "stdout",
     "output_type": "stream",
     "text": [
      "riddhi is from vadodara\n"
     ]
    }
   ],
   "source": [
    "def main():\n",
    "    name  = get_name()\n",
    "    house = get_house()\n",
    "    print(f\"{name} is from {house}\")\n",
    "\n",
    "def get_name():\n",
    "    return input(\"ENter name: \")\n",
    "    \n",
    "\n",
    "def get_house():\n",
    "    return input(\"Enter House: \")\n",
    "\n",
    "if __name__ == \"__main__\":\n",
    "    main()\n",
    "\n"
   ]
  },
  {
   "cell_type": "code",
   "execution_count": null,
   "metadata": {},
   "outputs": [],
   "source": [
    "## Same way to write the above function by returning a tuple \n",
    "## name, house in get_student is a tuple as it is separated by comma\n",
    "\n",
    "\n",
    "def main():\n",
    "    name , house = get_student()\n",
    "    print(f\"{name} is from {house}\")\n",
    "\n",
    "def get_student():\n",
    "    name=  input(\"ENter name: \")\n",
    "    house= input(\"Enter House: \")\n",
    "    return name, house\n",
    "\n",
    "if __name__ == \"__main__\":\n",
    "    main()"
   ]
  },
  {
   "cell_type": "code",
   "execution_count": null,
   "metadata": {},
   "outputs": [],
   "source": [
    "## another way to Call values by a tuple (name,house)- TUPLES are immutable\n",
    "\n",
    "def main():\n",
    "    student = get_student()\n",
    "    print(f\"{student[0]} is from {student[1]}\")\n",
    "\n",
    "def get_student():\n",
    "    name=  input(\"ENter name: \")\n",
    "    house= input(\"Enter House: \")\n",
    "    return (name, house)\n",
    "\n",
    "if __name__ == \"__main__\":\n",
    "    main()"
   ]
  },
  {
   "cell_type": "code",
   "execution_count": 2,
   "metadata": {},
   "outputs": [
    {
     "name": "stdout",
     "output_type": "stream",
     "text": [
      "Sahil is from Surat\n"
     ]
    }
   ],
   "source": [
    "## Another way to write the function above but now using dictionary\n",
    "\n",
    "def main():\n",
    "    student = get_student()\n",
    "    print(f'{student[\"name\"]} is from {student[\"house\"]}')\n",
    "\n",
    "def get_student():\n",
    "    student= {}\n",
    "    student[\"name\"]=  input(\"ENter name: \")\n",
    "    student[\"house\"]= input(\"Enter House: \")\n",
    "    return student\n",
    "\n",
    "if __name__ == \"__main__\":\n",
    "    main()"
   ]
  },
  {
   "cell_type": "code",
   "execution_count": 3,
   "metadata": {},
   "outputs": [
    {
     "name": "stdout",
     "output_type": "stream",
     "text": [
      "riddhi is from ahmdvd\n"
     ]
    }
   ],
   "source": [
    "## NOW USING OOP:\n",
    "## CLASSES- Allows us to create our own datatype\n",
    "\n",
    "\n",
    "class Student:\n",
    "    ...    ### THREE DOTS MEAN EMPTY CLASS HERE , WE DEFINE THE OBJECT IN THE FUNC BELOW\n",
    "\n",
    "def main():\n",
    "    something = get_student()\n",
    "    print(f\"{something.name} is from {something.house}\")\n",
    "\n",
    "def get_student():\n",
    "    student = Student()  ## CREATING OBJECT FOR A CLASS\n",
    "    student.name = input(\"Enter name: \")\n",
    "    student.house= input(\"Enter house: \")\n",
    "    return student\n",
    "\n",
    "\n",
    "\n",
    "if __name__ == \"__main__\":\n",
    "    main()  \n",
    "\n"
   ]
  },
  {
   "cell_type": "code",
   "execution_count": null,
   "metadata": {},
   "outputs": [],
   "source": [
    "class Student:\n",
    "    ...    ### THREE DOTS MEAN EMPTY CLASS HERE , WE DEFINE THE OBJECT IN THE FUNC BELOW\n",
    "\n",
    "def main():\n",
    "    something = get_student()\n",
    "    print(f\"{something.name} is from {something.house}\")\n",
    "\n",
    "def get_student():\n",
    "    name = input(\"Enter name: \")\n",
    "    house= input(\"Enter house: \")\n",
    "    student = Student(name, house)\n",
    "    return student\n",
    "\n",
    "\n",
    "\n",
    "if __name__ == \"__main__\":\n",
    "    main()  "
   ]
  },
  {
   "cell_type": "code",
   "execution_count": 5,
   "metadata": {},
   "outputs": [
    {
     "name": "stdout",
     "output_type": "stream",
     "text": [
      "riddhi is from amd\n"
     ]
    }
   ],
   "source": [
    "##USING INIT METHOD:\n",
    "\n",
    "class Student:\n",
    "    def __init__(self, name, house):   ## INIT here is only used for checking any value errors etc for house,name\n",
    "        if not name:\n",
    "            raise ValueError(\"Name is missing\") ## Checking if the name is missing\n",
    "        if house not in ['vadodara', 'surat', 'amd']:\n",
    "            raise ValueError(\"invalid house\")\n",
    "        self.name = name\n",
    "        self.house= house\n",
    "\n",
    "\n",
    "def main():\n",
    "    something = get_student()\n",
    "    print(f\"{something.name} is from {something.house}\")\n",
    "\n",
    "def get_student():\n",
    "    name = input(\"Enter name: \")\n",
    "    house= input(\"Enter house: \")\n",
    "    return Student(name, house)\n",
    "\n",
    "\n",
    "if __name__ == \"__main__\":\n",
    "    main()  "
   ]
  },
  {
   "cell_type": "code",
   "execution_count": 12,
   "metadata": {},
   "outputs": [
    {
     "name": "stdout",
     "output_type": "stream",
     "text": [
      "<__main__.Student object at 0x00000260DC9E7610>\n"
     ]
    }
   ],
   "source": [
    "## Here what is printed in the main function is the object that is retuned from get_student() function\n",
    "## Hence we get a location of the student class in output - as per in computer's memory\n",
    "## To avoid this error, we print something in string by default __STR__\n",
    "\n",
    "class Student:\n",
    "    def __init__(self, name, house):   ## INIT here is only used for checking any value errors etc for house,name\n",
    "        self.name = name\n",
    "        self.house= house\n",
    "\n",
    "\n",
    "def main():\n",
    "    something = get_student()\n",
    "    print(something)\n",
    "\n",
    "def get_student():\n",
    "    name = input(\"Enter name: \")\n",
    "    house= input(\"Enter house: \")\n",
    "    return Student(name, house)\n",
    "\n",
    "\n",
    "if __name__ == \"__main__\":\n",
    "    main()  "
   ]
  },
  {
   "cell_type": "code",
   "execution_count": 13,
   "metadata": {},
   "outputs": [
    {
     "name": "stdout",
     "output_type": "stream",
     "text": [
      "a student\n"
     ]
    }
   ],
   "source": [
    "## __str__ method--- Thsi takes the self argument by default\n",
    "\n",
    "class Student:\n",
    "    def __init__(self, name, house):   ## INIT here is only used for checking any value errors etc for house,name\n",
    "        self.name = name\n",
    "        self.house= house\n",
    "    def __str__(self):\n",
    "        print(f\"{self.name} is from {self.house}\")\n",
    "\n",
    "def main():\n",
    "    something = get_student()\n",
    "    print(something)   ## so when you are trying to print this which is not really a string, we get __STR__ to be called\n",
    "    \n",
    "\n",
    "def get_student():\n",
    "    name = input(\"Enter name: \")\n",
    "    house= input(\"Enter house: \")\n",
    "    return Student(name, house)\n",
    "\n",
    "\n",
    "if __name__ == \"__main__\":\n",
    "    main()  \n"
   ]
  },
  {
   "cell_type": "code",
   "execution_count": 7,
   "metadata": {},
   "outputs": [
    {
     "name": "stdout",
     "output_type": "stream",
     "text": [
      "riddhi is from ddssf and her patronus is 🐕\n"
     ]
    }
   ],
   "source": [
    "## Another use case of a class is that we can create our own functions within class instead of just using INIT and STR\n",
    "## WHatever is in the mian function will be printed always, except when the main fucntion prints gibberish is when\n",
    "## what we have in __str__ will be printed\n",
    "\n",
    "class Student:\n",
    "    def __init__(self, name, house, patronus):   ## INIT here is only used for checking any value errors etc for house,name\n",
    "        self.name = name\n",
    "        self.house= house\n",
    "        self.patronus = patronus\n",
    "    def __str__(self):\n",
    "        print(f\"{self.name} is from {self.house}\")\n",
    "\n",
    "    def charm(self): ## by default any func that we create within a class will have a self method\n",
    "        match self.patronus: \n",
    "            case \"horse\":\n",
    "                return \"🐴\"\n",
    "            case \"cat\":\n",
    "                return \"😺\"\n",
    "            case \"dog\":\n",
    "                return \"🐕\"\n",
    "\n",
    "\n",
    "def main():\n",
    "    something = get_student()\n",
    "    print(f\"{something.name} is from {something.house} and her patronus is {something.charm()}\")   ##so when you are trying to print this which is not really a string, we get __STR__ to be called\n",
    "    \n",
    "\n",
    "def get_student():\n",
    "    name = input(\"Enter name: \")\n",
    "    house= input(\"Enter house: \")\n",
    "    patronus = input(\"ENter patronus: \")\n",
    "    return Student(name, house, patronus)\n",
    "\n",
    "\n",
    "if __name__ == \"__main__\":\n",
    "    main() "
   ]
  },
  {
   "cell_type": "code",
   "execution_count": 8,
   "metadata": {},
   "outputs": [
    {
     "name": "stdout",
     "output_type": "stream",
     "text": [
      "riddhi  is from Surat\n"
     ]
    }
   ],
   "source": [
    "## Below code shows that we can overwrite the attribute values of the class as supposed to printing what the user inputs in the house value\n",
    "## even when the user inputs some value for the house, we see what is the value over written with\n",
    "\n",
    "class Student:\n",
    "    def __init__(self, name, house):   ## INIT here is only used for checking any value errors etc for house,name\n",
    "        self.name = name\n",
    "        self.house= house\n",
    "\n",
    "    def __str__(self):\n",
    "        print(f\"{self.name} is from {self.house}\")\n",
    "\n",
    "    \n",
    "\n",
    "def main():\n",
    "    something = get_student()\n",
    "    something.house = \"Surat\"\n",
    "    print(f\"{something.name} is from {something.house}\")\n",
    "\n",
    "    \n",
    "def get_student():\n",
    "    name = input(\"Enter name: \")\n",
    "    house= input(\"Enter house: \")\n",
    "    return Student(name, house)\n",
    "\n",
    "\n",
    "if __name__ == \"__main__\":\n",
    "    main() "
   ]
  },
  {
   "cell_type": "markdown",
   "metadata": {},
   "source": [
    "### Decorators - @Property"
   ]
  },
  {
   "cell_type": "code",
   "execution_count": 18,
   "metadata": {},
   "outputs": [
    {
     "ename": "ValueError",
     "evalue": "Invalid House",
     "output_type": "error",
     "traceback": [
      "\u001b[1;31m---------------------------------------------------------------------------\u001b[0m",
      "\u001b[1;31mValueError\u001b[0m                                Traceback (most recent call last)",
      "Cell \u001b[1;32mIn[18], line 38\u001b[0m\n\u001b[0;32m     34\u001b[0m     \u001b[38;5;28;01mreturn\u001b[39;00m Student(name, house)\n\u001b[0;32m     37\u001b[0m \u001b[38;5;28;01mif\u001b[39;00m \u001b[38;5;18m__name__\u001b[39m \u001b[38;5;241m==\u001b[39m \u001b[38;5;124m\"\u001b[39m\u001b[38;5;124m__main__\u001b[39m\u001b[38;5;124m\"\u001b[39m:\n\u001b[1;32m---> 38\u001b[0m     \u001b[43mmain\u001b[49m\u001b[43m(\u001b[49m\u001b[43m)\u001b[49m \n",
      "Cell \u001b[1;32mIn[18], line 26\u001b[0m, in \u001b[0;36mmain\u001b[1;34m()\u001b[0m\n\u001b[0;32m     25\u001b[0m \u001b[38;5;28;01mdef\u001b[39;00m \u001b[38;5;21mmain\u001b[39m():\n\u001b[1;32m---> 26\u001b[0m     something \u001b[38;5;241m=\u001b[39m \u001b[43mget_student\u001b[49m\u001b[43m(\u001b[49m\u001b[43m)\u001b[49m\n\u001b[0;32m     27\u001b[0m     something\u001b[38;5;241m.\u001b[39mhouse \u001b[38;5;241m=\u001b[39m \u001b[38;5;124m\"\u001b[39m\u001b[38;5;124mSurat\u001b[39m\u001b[38;5;124m\"\u001b[39m\n\u001b[0;32m     28\u001b[0m     \u001b[38;5;28mprint\u001b[39m(\u001b[38;5;124mf\u001b[39m\u001b[38;5;124m\"\u001b[39m\u001b[38;5;132;01m{\u001b[39;00msomething\u001b[38;5;241m.\u001b[39mname\u001b[38;5;132;01m}\u001b[39;00m\u001b[38;5;124m is from \u001b[39m\u001b[38;5;132;01m{\u001b[39;00msomething\u001b[38;5;241m.\u001b[39mhouse\u001b[38;5;132;01m}\u001b[39;00m\u001b[38;5;124m\"\u001b[39m)\n",
      "Cell \u001b[1;32mIn[18], line 34\u001b[0m, in \u001b[0;36mget_student\u001b[1;34m()\u001b[0m\n\u001b[0;32m     32\u001b[0m name \u001b[38;5;241m=\u001b[39m \u001b[38;5;28minput\u001b[39m(\u001b[38;5;124m\"\u001b[39m\u001b[38;5;124mEnter name: \u001b[39m\u001b[38;5;124m\"\u001b[39m)\n\u001b[0;32m     33\u001b[0m house\u001b[38;5;241m=\u001b[39m \u001b[38;5;28minput\u001b[39m(\u001b[38;5;124m\"\u001b[39m\u001b[38;5;124mEnter house: \u001b[39m\u001b[38;5;124m\"\u001b[39m)\n\u001b[1;32m---> 34\u001b[0m \u001b[38;5;28;01mreturn\u001b[39;00m \u001b[43mStudent\u001b[49m\u001b[43m(\u001b[49m\u001b[43mname\u001b[49m\u001b[43m,\u001b[49m\u001b[43m \u001b[49m\u001b[43mhouse\u001b[49m\u001b[43m)\u001b[49m\n",
      "Cell \u001b[1;32mIn[18], line 7\u001b[0m, in \u001b[0;36mStudent.__init__\u001b[1;34m(self, name, house)\u001b[0m\n\u001b[0;32m      5\u001b[0m \u001b[38;5;28;01mdef\u001b[39;00m \u001b[38;5;21m__init__\u001b[39m(\u001b[38;5;28mself\u001b[39m, name, house):   \u001b[38;5;66;03m## INIT here is only used for checking any value errors etc for house,name\u001b[39;00m\n\u001b[0;32m      6\u001b[0m     \u001b[38;5;28mself\u001b[39m\u001b[38;5;241m.\u001b[39mname \u001b[38;5;241m=\u001b[39m name\n\u001b[1;32m----> 7\u001b[0m     \u001b[38;5;28;43mself\u001b[39;49m\u001b[38;5;241;43m.\u001b[39;49m\u001b[43mhouse\u001b[49m\u001b[38;5;241m=\u001b[39m house\n",
      "Cell \u001b[1;32mIn[18], line 22\u001b[0m, in \u001b[0;36mStudent.house\u001b[1;34m(self, house)\u001b[0m\n\u001b[0;32m     19\u001b[0m \u001b[38;5;129m@house\u001b[39m\u001b[38;5;241m.\u001b[39msetter\n\u001b[0;32m     20\u001b[0m \u001b[38;5;28;01mdef\u001b[39;00m \u001b[38;5;21mhouse\u001b[39m(\u001b[38;5;28mself\u001b[39m, house):\n\u001b[0;32m     21\u001b[0m     \u001b[38;5;28;01mif\u001b[39;00m house \u001b[38;5;129;01mnot\u001b[39;00m \u001b[38;5;129;01min\u001b[39;00m (\u001b[38;5;124m\"\u001b[39m\u001b[38;5;124mvadodara\u001b[39m\u001b[38;5;124m\"\u001b[39m,\u001b[38;5;124m\"\u001b[39m\u001b[38;5;124mAmd\u001b[39m\u001b[38;5;124m\"\u001b[39m,\u001b[38;5;124m\"\u001b[39m\u001b[38;5;124mGoa\u001b[39m\u001b[38;5;124m\"\u001b[39m):\n\u001b[1;32m---> 22\u001b[0m         \u001b[38;5;28;01mraise\u001b[39;00m \u001b[38;5;167;01mValueError\u001b[39;00m(\u001b[38;5;124m\"\u001b[39m\u001b[38;5;124mInvalid House\u001b[39m\u001b[38;5;124m\"\u001b[39m)\n\u001b[0;32m     23\u001b[0m     \u001b[38;5;28mself\u001b[39m\u001b[38;5;241m.\u001b[39m_house \u001b[38;5;241m=\u001b[39m house\n",
      "\u001b[1;31mValueError\u001b[0m: Invalid House"
     ]
    }
   ],
   "source": [
    "## To prevent the above situation whenre the coder is manually over writing the value that the user inputs for the house, we use @property\n",
    "## these properties are called as Decorators- functions that modify other functions/variables\n",
    "\n",
    "## the error that we see in the output is what we expected to show as part of the value error that we are raising here\n",
    "\n",
    "class Student:\n",
    "    def __init__(self, name, house):   ## INIT here is only used for checking any value errors etc for house,name\n",
    "        self.name = name\n",
    "        self.house= house\n",
    "\n",
    "    def __str__(self):\n",
    "        print(f\"{self.name} is from {self.house}\")\n",
    "\n",
    "    ## Getter\n",
    "    @property    ## Name of the property will always be equal to the attribute name- in this case house(thats the rule)\n",
    "    def house(self):\n",
    "        return self._house  ## here we are using _house so we can differentiate between house attribute and what we are returning here\n",
    "    \n",
    "\n",
    "    ## Setter- This is helped to set the value of the house as per the condition in the code\n",
    "    @house.setter\n",
    "    def house(self, house):\n",
    "        if house not in (\"vadodara\",\"Amd\",\"Goa\"):\n",
    "            raise ValueError(\"Invalid House\")\n",
    "        self._house = house\n",
    "\n",
    "def main():\n",
    "    something = get_student()\n",
    "    something.house = \"Surat\"  ## this manual assignment of the house will be taken care by the setter house\n",
    "    print(f\"{something.name} is from {something.house}\")\n",
    "\n",
    "    \n",
    "def get_student():\n",
    "    name = input(\"Enter name: \")\n",
    "    house= input(\"Enter house: \")\n",
    "    return Student(name, house)\n",
    "\n",
    "\n",
    "if __name__ == \"__main__\":\n",
    "    main() \n"
   ]
  },
  {
   "cell_type": "code",
   "execution_count": 19,
   "metadata": {},
   "outputs": [
    {
     "ename": "ValueError",
     "evalue": "missing name",
     "output_type": "error",
     "traceback": [
      "\u001b[1;31m---------------------------------------------------------------------------\u001b[0m",
      "\u001b[1;31mValueError\u001b[0m                                Traceback (most recent call last)",
      "Cell \u001b[1;32mIn[19], line 49\u001b[0m\n\u001b[0;32m     45\u001b[0m     \u001b[38;5;28;01mreturn\u001b[39;00m Student(name, house)\n\u001b[0;32m     48\u001b[0m \u001b[38;5;28;01mif\u001b[39;00m \u001b[38;5;18m__name__\u001b[39m \u001b[38;5;241m==\u001b[39m \u001b[38;5;124m\"\u001b[39m\u001b[38;5;124m__main__\u001b[39m\u001b[38;5;124m\"\u001b[39m:\n\u001b[1;32m---> 49\u001b[0m     \u001b[43mmain\u001b[49m\u001b[43m(\u001b[49m\u001b[43m)\u001b[49m \n",
      "Cell \u001b[1;32mIn[19], line 38\u001b[0m, in \u001b[0;36mmain\u001b[1;34m()\u001b[0m\n\u001b[0;32m     37\u001b[0m \u001b[38;5;28;01mdef\u001b[39;00m \u001b[38;5;21mmain\u001b[39m():\n\u001b[1;32m---> 38\u001b[0m     something \u001b[38;5;241m=\u001b[39m \u001b[43mget_student\u001b[49m\u001b[43m(\u001b[49m\u001b[43m)\u001b[49m\n\u001b[0;32m     39\u001b[0m     \u001b[38;5;28mprint\u001b[39m(\u001b[38;5;124mf\u001b[39m\u001b[38;5;124m\"\u001b[39m\u001b[38;5;132;01m{\u001b[39;00msomething\u001b[38;5;241m.\u001b[39mname\u001b[38;5;132;01m}\u001b[39;00m\u001b[38;5;124m is from \u001b[39m\u001b[38;5;132;01m{\u001b[39;00msomething\u001b[38;5;241m.\u001b[39mhouse\u001b[38;5;132;01m}\u001b[39;00m\u001b[38;5;124m\"\u001b[39m)\n",
      "Cell \u001b[1;32mIn[19], line 45\u001b[0m, in \u001b[0;36mget_student\u001b[1;34m()\u001b[0m\n\u001b[0;32m     43\u001b[0m name \u001b[38;5;241m=\u001b[39m \u001b[38;5;28minput\u001b[39m(\u001b[38;5;124m\"\u001b[39m\u001b[38;5;124mEnter name: \u001b[39m\u001b[38;5;124m\"\u001b[39m)\n\u001b[0;32m     44\u001b[0m house\u001b[38;5;241m=\u001b[39m \u001b[38;5;28minput\u001b[39m(\u001b[38;5;124m\"\u001b[39m\u001b[38;5;124mEnter house: \u001b[39m\u001b[38;5;124m\"\u001b[39m)\n\u001b[1;32m---> 45\u001b[0m \u001b[38;5;28;01mreturn\u001b[39;00m \u001b[43mStudent\u001b[49m\u001b[43m(\u001b[49m\u001b[43mname\u001b[49m\u001b[43m,\u001b[49m\u001b[43m \u001b[49m\u001b[43mhouse\u001b[49m\u001b[43m)\u001b[49m\n",
      "Cell \u001b[1;32mIn[19], line 6\u001b[0m, in \u001b[0;36mStudent.__init__\u001b[1;34m(self, name, house)\u001b[0m\n\u001b[0;32m      5\u001b[0m \u001b[38;5;28;01mdef\u001b[39;00m \u001b[38;5;21m__init__\u001b[39m(\u001b[38;5;28mself\u001b[39m, name, house):   \u001b[38;5;66;03m## INIT here is only used for checking any value errors etc for house,name\u001b[39;00m\n\u001b[1;32m----> 6\u001b[0m     \u001b[38;5;28;43mself\u001b[39;49m\u001b[38;5;241;43m.\u001b[39;49m\u001b[43mname\u001b[49m \u001b[38;5;241m=\u001b[39m name\n\u001b[0;32m      7\u001b[0m     \u001b[38;5;28mself\u001b[39m\u001b[38;5;241m.\u001b[39mhouse\u001b[38;5;241m=\u001b[39m house\n",
      "Cell \u001b[1;32mIn[19], line 20\u001b[0m, in \u001b[0;36mStudent.name\u001b[1;34m(self, name)\u001b[0m\n\u001b[0;32m     17\u001b[0m \u001b[38;5;129m@name\u001b[39m\u001b[38;5;241m.\u001b[39msetter\n\u001b[0;32m     18\u001b[0m \u001b[38;5;28;01mdef\u001b[39;00m \u001b[38;5;21mname\u001b[39m(\u001b[38;5;28mself\u001b[39m, name):\n\u001b[0;32m     19\u001b[0m     \u001b[38;5;28;01mif\u001b[39;00m \u001b[38;5;129;01mnot\u001b[39;00m name:\n\u001b[1;32m---> 20\u001b[0m         \u001b[38;5;28;01mraise\u001b[39;00m \u001b[38;5;167;01mValueError\u001b[39;00m(\u001b[38;5;124m\"\u001b[39m\u001b[38;5;124mmissing name\u001b[39m\u001b[38;5;124m\"\u001b[39m)\n\u001b[0;32m     22\u001b[0m     \u001b[38;5;28mself\u001b[39m\u001b[38;5;241m.\u001b[39m_name \u001b[38;5;241m=\u001b[39m name\n",
      "\u001b[1;31mValueError\u001b[0m: missing name"
     ]
    }
   ],
   "source": [
    "## try with another property called name for the name attribute\n",
    "## now we are calling/raising another error for missing the name by the user\n",
    "\n",
    "\n",
    "class Student:\n",
    "    def __init__(self, name, house):   ## INIT here is only used for checking any value errors etc for house,name\n",
    "        self.name = name\n",
    "        self.house= house\n",
    "\n",
    "    def __str__(self):\n",
    "        print(f\"{self.name} is from {self.house}\")\n",
    "\n",
    "\n",
    "    @property\n",
    "    def name(self):\n",
    "        return self._name \n",
    "\n",
    "    @name.setter\n",
    "    def name(self, name):\n",
    "        if not name:\n",
    "            raise ValueError(\"missing name\")\n",
    "\n",
    "        self._name = name\n",
    "\n",
    "    ## Getter\n",
    "    @property    ## Name of the property will always be equal to the attribute name- in this case house(thats the rule)\n",
    "    def house(self):\n",
    "        return self._house  ## here we are using _house so we can differentiate between house attribute and what we are returning here\n",
    "    \n",
    "\n",
    "    ## Setter- This is helped to set the value of the house as per the condition in the code\n",
    "    @house.setter\n",
    "    def house(self, house):\n",
    "        if house not in (\"vadodara\",\"Amd\",\"Goa\"):\n",
    "            raise ValueError(\"Invalid House\")\n",
    "        self._house = house\n",
    "\n",
    "def main():\n",
    "    something = get_student()\n",
    "    print(f\"{something.name} is from {something.house}\")\n",
    "\n",
    "    \n",
    "def get_student():\n",
    "    name = input(\"Enter name: \")\n",
    "    house= input(\"Enter house: \")\n",
    "    return Student(name, house)\n",
    "\n",
    "\n",
    "if __name__ == \"__main__\":\n",
    "    main() "
   ]
  },
  {
   "cell_type": "markdown",
   "metadata": {},
   "source": [
    "### Class Methods"
   ]
  },
  {
   "cell_type": "code",
   "execution_count": 20,
   "metadata": {},
   "outputs": [
    {
     "name": "stdout",
     "output_type": "stream",
     "text": [
      "Harry is in hufflepuff\n"
     ]
    }
   ],
   "source": [
    "import random\n",
    "class Hat:\n",
    "    def __init__(self):\n",
    "        self.houses= [\"Gryffindor\",\"slytherin\",\"ravenclaw\",\"hufflepuff\"]\n",
    "    def sort(self,name):\n",
    "        house= random.choice(self.houses) # i will let the interpreter randomly choose from the list of houses\n",
    "        \n",
    "        print(name, \"is in\", house)\n",
    "\n",
    "hat = Hat()\n",
    "\n",
    "hat.sort(\"Harry\")\n"
   ]
  },
  {
   "cell_type": "markdown",
   "metadata": {},
   "source": [
    "### No Initialization"
   ]
  },
  {
   "cell_type": "code",
   "execution_count": 21,
   "metadata": {},
   "outputs": [
    {
     "name": "stdout",
     "output_type": "stream",
     "text": [
      "harry is in  slytherin\n"
     ]
    }
   ],
   "source": [
    "## if i want to avoid initializing the class to use the list houses in above code,\n",
    "## i can instead create a class method that takes one arg as default called CLS and then we can\n",
    "## refer to the functions within that class and also variables/lists etc in that class\n",
    "\n",
    "\n",
    "class Hat:\n",
    "    house = [\"griffindor\",\"slytherin\",\"hufflepuff\",\"ravenclaw\"]\n",
    "    @classmethod\n",
    "    def sort(cls,name):   # we do not use self here as we are not initializing this class function, hence we replace self with CLS\n",
    "        print(name, \"is in \",random.choice(cls.house))\n",
    "\n",
    "Hat.sort(\"harry\")"
   ]
  },
  {
   "cell_type": "code",
   "execution_count": 24,
   "metadata": {},
   "outputs": [
    {
     "name": "stdout",
     "output_type": "stream",
     "text": [
      "riddhi from devalia\n"
     ]
    }
   ],
   "source": [
    "## from the previous example of student, we can also use class method approach instead of calling/creating\n",
    "## a function outside of a class\n",
    "\n",
    "class Student:\n",
    "    def __init__(self, name, house):\n",
    "        self.name= name\n",
    "        self.house= house\n",
    "\n",
    "    def __str__(self):\n",
    "        return f\"{self.name} from {self.house}\"\n",
    "    \n",
    "    @classmethod\n",
    "    def get(cls):\n",
    "        name= input(\"Name is: \")\n",
    "        house= input(\"house is: \")\n",
    "        return cls(name, house)\n",
    "    \n",
    "def main():\n",
    "    print(Student.get())\n",
    "\n",
    "if __name__==\"__main__\":\n",
    "    main()\n",
    "        "
   ]
  },
  {
   "cell_type": "markdown",
   "metadata": {},
   "source": [
    "## Static Methods"
   ]
  },
  {
   "cell_type": "markdown",
   "metadata": {},
   "source": [
    "### Inheritance"
   ]
  },
  {
   "cell_type": "code",
   "execution_count": 9,
   "metadata": {},
   "outputs": [],
   "source": [
    "## we use inheritance when we want to use the methods, variables initializors of one class without repeating them\n",
    "## in the next class, we use inheritance to save us some code and repetition\n",
    "\n",
    "## we do the same thing here as we create super class called Wizard which has name initialization and an\n",
    "## if statement to check if the name is present or not. those methods we will inherent in student and professor class\n",
    "\n",
    "\n",
    "class Wizard:     ## here Wizard is a super class\n",
    "    def __init__(self,name):\n",
    "        if not name:\n",
    "            raise ValueError(\"missing name\")\n",
    "        self.name= name\n",
    "\n",
    "class Student(Wizard): ##here student is a subclass that inherits name from the init method of Wizard\n",
    "    def __init__(self,name, house):\n",
    "        super().__init__(name)\n",
    "        self.house= house\n",
    "\n",
    "\n",
    "class Professor(Wizard):\n",
    "    def __init__(self, name, subject):\n",
    "        super().__init__(name)\n",
    "        self.subject= subject\n",
    "\n",
    "\n",
    "## if we were to call the classes methods here:\n",
    "wizard= Wizard(\"ALbus\")\n",
    "student= Student(\"Harry\", \"Griffindor\")\n",
    "professor = Professor(\"ABC\",\"defence from dark arts\")\n",
    "\n",
    "\n",
    "\n",
    "\n",
    "\n",
    "    "
   ]
  },
  {
   "cell_type": "markdown",
   "metadata": {},
   "source": [
    "### Operator Overloading"
   ]
  },
  {
   "cell_type": "markdown",
   "metadata": {},
   "source": [
    "### This can be used ot add or multiple or divide two classes and values within them."
   ]
  },
  {
   "cell_type": "code",
   "execution_count": 28,
   "metadata": {},
   "outputs": [
    {
     "name": "stdout",
     "output_type": "stream",
     "text": [
      "100 Galleons, 50 Sickles, 25 Knuts\n",
      "25 Galleons, 10 Sickles, 50 Knuts\n",
      "125 Galleons, 60 Sickles, 75 Knuts\n"
     ]
    }
   ],
   "source": [
    "## Let us first try the simple method of adding contents manually by creating variables\n",
    "class Vault:\n",
    "    def __init__(self,gall=0, sickles=0, knuts=0):\n",
    "        self.gall=gall\n",
    "        self.sickles=sickles\n",
    "        self.knuts=knuts\n",
    "\n",
    "    def __str__(self):\n",
    "        return f\"{self.gall} Galleons, {self.sickles} Sickles, {self.knuts} Knuts\"\n",
    "\n",
    "potter= Vault(100,50,25)\n",
    "print(potter)\n",
    "\n",
    "weasley= Vault(25,10,50)\n",
    "print(weasley)\n",
    "\n",
    "## Now if i want to combine the two vaults and do the total, i can do something like this:\n",
    "\n",
    "gall= potter.gall + weasley.gall\n",
    "sickles= potter.sickles + weasley.sickles\n",
    "knuts= potter.knuts + weasley.knuts\n",
    "\n",
    "total= Vault(gall, sickles, knuts)\n",
    "print(total)\n"
   ]
  },
  {
   "cell_type": "code",
   "execution_count": 2,
   "metadata": {},
   "outputs": [
    {
     "name": "stdout",
     "output_type": "stream",
     "text": [
      "100 Galleons, 50 Sickles, 25 Knuts\n",
      "25 Galleons, 10 Sickles, 50 Knuts\n",
      "125 Galleons, 60 Sickles, 75 Knuts\n"
     ]
    }
   ],
   "source": [
    "## Now let us try the same thing with operator overloading technique\n",
    "\n",
    "class Vault:\n",
    "    def __init__(self,gall=0, sickles=0, knuts=0):\n",
    "        self.gall=gall\n",
    "        self.sickles=sickles\n",
    "        self.knuts=knuts\n",
    "\n",
    "    def __str__(self):\n",
    "        return f\"{self.gall} Galleons, {self.sickles} Sickles, {self.knuts} Knuts\"\n",
    "\n",
    "## Introducing add method for operator overload\n",
    "\n",
    "    def __add__(self,other):  ## other is added by convention for the right side value. this case, referring to \n",
    "        ## the weasley object on the right to be added with potter object\n",
    "        gall= self.gall+other.gall\n",
    "        sickles= self.sickles + other.sickles\n",
    "        knuts= self.knuts + other.knuts\n",
    "        return Vault(gall, sickles, knuts)\n",
    "\n",
    "potter= Vault(100,50,25)\n",
    "print(potter)\n",
    "\n",
    "weasley= Vault(25,10,50)\n",
    "print(weasley)\n",
    "\n",
    "## Now if i want to combine the two vaults and do the total, i can do something like this:\n",
    "total = potter + weasley\n",
    "print (total)\n"
   ]
  },
  {
   "cell_type": "markdown",
   "metadata": {},
   "source": [
    "## Python Programming Et Cetera"
   ]
  },
  {
   "cell_type": "markdown",
   "metadata": {},
   "source": [
    "### A SET: eliminates duplicates as compared to LIST"
   ]
  },
  {
   "cell_type": "code",
   "execution_count": 5,
   "metadata": {},
   "outputs": [
    {
     "name": "stdout",
     "output_type": "stream",
     "text": [
      "ahmedabad\n",
      "jamnagar\n",
      "surat\n",
      "vadodara\n"
     ]
    }
   ],
   "source": [
    "## Let us look at a problem being solved using a list method first where we remove duplicate values from house and print in a list\n",
    "\n",
    "students = [\n",
    "    {\"name\":\"RIddhi\", \"house\":\"vadodara\"},\n",
    "    {\"name\":\"Sahil\", \"house\":\"vadodara\"},\n",
    "    {\"name\":\"Naishadh\", \"house\":\"jamnagar\"},\n",
    "    {\"name\":\"Pahini\", \"house\":\"surat\"},\n",
    "    {\"name\":\"Akash\", \"house\":\"ahmedabad\"}\n",
    "]\n",
    "\n",
    "houses= []\n",
    "for student in students:\n",
    "    if student[\"house\"] not in houses:\n",
    "        houses.append(student[\"house\"])\n",
    "\n",
    "for house in sorted(houses):\n",
    "    print(house)"
   ]
  },
  {
   "cell_type": "code",
   "execution_count": 6,
   "metadata": {},
   "outputs": [
    {
     "name": "stdout",
     "output_type": "stream",
     "text": [
      "ahmedabad\n",
      "jamnagar\n",
      "surat\n",
      "vadodara\n"
     ]
    }
   ],
   "source": [
    "## Now let us see the set method where the dups are removed automatically\n",
    "\n",
    "students = [\n",
    "    {\"name\":\"RIddhi\", \"house\":\"vadodara\"},\n",
    "    {\"name\":\"Sahil\", \"house\":\"vadodara\"},\n",
    "    {\"name\":\"Naishadh\", \"house\":\"jamnagar\"},\n",
    "    {\"name\":\"Pahini\", \"house\":\"surat\"},\n",
    "    {\"name\":\"Akash\", \"house\":\"ahmedabad\"}\n",
    "]\n",
    "\n",
    "houses= set()  ## this will eliminate the use of if statement where not in\n",
    "for student in students:\n",
    "    houses.add(student[\"house\"])\n",
    "\n",
    "for house in sorted(houses):\n",
    "    print(house)\n"
   ]
  },
  {
   "cell_type": "markdown",
   "metadata": {},
   "source": [
    "### GLOBAL VARIABLES"
   ]
  },
  {
   "cell_type": "markdown",
   "metadata": {},
   "source": [
    "##### A global var can only be read by different functions but we can not change it or assign a new variable.\n",
    "##### A local variable; which is local to a function can be changed as needed. to make a variable that is globally declared used as a local variable, we use \"global\" keyword as below"
   ]
  },
  {
   "cell_type": "code",
   "execution_count": 11,
   "metadata": {},
   "outputs": [
    {
     "name": "stdout",
     "output_type": "stream",
     "text": [
      "Balance:  0\n",
      "Balance:  50\n"
     ]
    }
   ],
   "source": [
    "## This is an example of variables declared outside of a main func and still being called under main\n",
    "\n",
    "balance= 0\n",
    "\n",
    "def main():\n",
    "    print(\"Balance: \", balance)\n",
    "    deposit(100)\n",
    "    withdraw(50)\n",
    "    print(\"Balance: \", balance)\n",
    "\n",
    "def deposit(n):\n",
    "    global balance ## This way a function knows that we can edit the global variable balance declared on the very top\n",
    "    balance+=n\n",
    "\n",
    "\n",
    "def withdraw(n):\n",
    "    global balance\n",
    "    balance-=n\n",
    "\n",
    "if __name__== \"__main__\":\n",
    "    main()"
   ]
  },
  {
   "cell_type": "code",
   "execution_count": 16,
   "metadata": {},
   "outputs": [
    {
     "name": "stdout",
     "output_type": "stream",
     "text": [
      "balance is:  0\n",
      "balance is:  50\n"
     ]
    }
   ],
   "source": [
    "## Same as above example that can be solved with CLASS \n",
    "\n",
    "class Account:\n",
    "    def __init__(self):\n",
    "        self._balance=0\n",
    "\n",
    "    @property    ## we are using this here so that no body can go ahead and modify the balance. only when a function like dep or withdraw is called is when we can\n",
    "    ## modify balance but we can ot say account.balance= 1000 and initialize our balance again\n",
    "    def balance(self):\n",
    "        return self._balance\n",
    "    \n",
    "    def deposit(self,n):\n",
    "        self._balance+=n\n",
    "\n",
    "    def withdraw(self,n):\n",
    "        self._balance-=n\n",
    "\n",
    "def main():\n",
    "    account=Account()\n",
    "    print(\"balance is: \", account.balance)\n",
    "    account.deposit(100)\n",
    "    account.withdraw(50)\n",
    "    print(\"balance is: \", account.balance)\n",
    "\n",
    "\n",
    "if __name__== \"__main__\":\n",
    "    main()\n",
    "        "
   ]
  },
  {
   "cell_type": "markdown",
   "metadata": {},
   "source": [
    "### CONSTANTS"
   ]
  },
  {
   "cell_type": "code",
   "execution_count": 18,
   "metadata": {},
   "outputs": [
    {
     "name": "stdout",
     "output_type": "stream",
     "text": [
      "meow\n",
      "meow\n",
      "meow\n"
     ]
    }
   ],
   "source": [
    "for _ in range(3):  ## we use _ instead o using i as i is not going to be used anywhere else. 3 is constant here\n",
    "    print(\"meow\")"
   ]
  },
  {
   "cell_type": "code",
   "execution_count": 19,
   "metadata": {},
   "outputs": [
    {
     "name": "stdout",
     "output_type": "stream",
     "text": [
      "meow\n",
      "meow\n",
      "meow\n"
     ]
    }
   ],
   "source": [
    "MEOWS = 3 ## here 3 is constant so we are not changing anything in the program elsewhere but if we need to change the value, we only change it once here\n",
    "for _ in range(MEOWS):  ## we use _ instead o using i as i is not going to be used anywhere else. 3 is constant here\n",
    "    print(\"meow\")"
   ]
  },
  {
   "cell_type": "markdown",
   "metadata": {},
   "source": [
    "##### CLASS CONSTANTS\n",
    "##### Local to the methods in the same class"
   ]
  },
  {
   "cell_type": "code",
   "execution_count": 22,
   "metadata": {},
   "outputs": [
    {
     "name": "stdout",
     "output_type": "stream",
     "text": [
      "meow\n",
      "meow\n",
      "meow\n"
     ]
    }
   ],
   "source": [
    "class Cat:\n",
    "    MEOWS=3\n",
    "\n",
    "    def meow(self):\n",
    "        for _ in range(Cat.MEOWS):\n",
    "            print(\"meow\")\n",
    "cat= Cat()\n",
    "cat.meow()\n",
    "    \n"
   ]
  },
  {
   "cell_type": "markdown",
   "metadata": {},
   "source": [
    "### TYPE HINTS"
   ]
  },
  {
   "cell_type": "markdown",
   "metadata": {},
   "source": [
    "#### MY PY: gives you a hint on what could have been wrong in your code. also ensures that the type of variables/inputs are accurate. only used for programmers to see if there is any type error in the code before publishing the code to the end users"
   ]
  },
  {
   "cell_type": "code",
   "execution_count": 24,
   "metadata": {},
   "outputs": [
    {
     "name": "stdout",
     "output_type": "stream",
     "text": [
      "Collecting mypy\n",
      "  Downloading mypy-1.10.1-cp311-cp311-win_amd64.whl (9.4 MB)\n",
      "                                              0.0/9.4 MB ? eta -:--:--\n",
      "                                              0.2/9.4 MB 3.3 MB/s eta 0:00:03\n",
      "     ---                                      0.9/9.4 MB 9.5 MB/s eta 0:00:01\n",
      "     --------                                 2.0/9.4 MB 16.0 MB/s eta 0:00:01\n",
      "     ------------                             3.1/9.4 MB 16.2 MB/s eta 0:00:01\n",
      "     ----------------                         3.9/9.4 MB 19.1 MB/s eta 0:00:01\n",
      "     ------------------                       4.3/9.4 MB 17.0 MB/s eta 0:00:01\n",
      "     --------------------                     4.8/9.4 MB 16.3 MB/s eta 0:00:01\n",
      "     ---------------------------              6.3/9.4 MB 18.4 MB/s eta 0:00:01\n",
      "     ------------------------------           7.2/9.4 MB 18.5 MB/s eta 0:00:01\n",
      "     ----------------------------------       8.1/9.4 MB 18.5 MB/s eta 0:00:01\n",
      "     ---------------------------------------  9.4/9.4 MB 19.4 MB/s eta 0:00:01\n",
      "     ---------------------------------------  9.4/9.4 MB 19.4 MB/s eta 0:00:01\n",
      "     ---------------------------------------- 9.4/9.4 MB 16.7 MB/s eta 0:00:00\n",
      "Requirement already satisfied: typing-extensions>=4.1.0 in c:\\users\\sahil patel\\appdata\\roaming\\python\\python311\\site-packages (from mypy) (4.12.2)\n",
      "Collecting mypy-extensions>=1.0.0 (from mypy)\n",
      "  Downloading mypy_extensions-1.0.0-py3-none-any.whl (4.7 kB)\n",
      "Installing collected packages: mypy-extensions, mypy\n",
      "  Attempting uninstall: mypy-extensions\n",
      "    Found existing installation: mypy-extensions 0.4.3\n",
      "    Uninstalling mypy-extensions-0.4.3:\n",
      "      Successfully uninstalled mypy-extensions-0.4.3\n",
      "Successfully installed mypy-1.10.1 mypy-extensions-1.0.0\n",
      "Note: you may need to restart the kernel to use updated packages.\n"
     ]
    },
    {
     "name": "stderr",
     "output_type": "stream",
     "text": [
      "ERROR: pip's dependency resolver does not currently take into account all the packages that are installed. This behaviour is the source of the following dependency conflicts.\n",
      "python-lsp-black 1.2.1 requires black>=22.3.0, but you have black 0.0 which is incompatible.\n",
      "spyder 5.4.3 requires jedi<0.19.0,>=0.17.2, but you have jedi 0.19.1 which is incompatible.\n"
     ]
    }
   ],
   "source": [
    "pip install mypy"
   ]
  },
  {
   "cell_type": "code",
   "execution_count": 25,
   "metadata": {},
   "outputs": [
    {
     "name": "stdout",
     "output_type": "stream",
     "text": [
      "meow\n",
      "meow\n",
      "meow\n",
      "meow\n"
     ]
    }
   ],
   "source": [
    "def meow(n):\n",
    "    for _ in range(n):\n",
    "        print(\"meow\")\n",
    "\n",
    "number= int(input(\"number: \"))\n",
    "meow(number)"
   ]
  },
  {
   "cell_type": "code",
   "execution_count": 27,
   "metadata": {},
   "outputs": [
    {
     "name": "stdout",
     "output_type": "stream",
     "text": [
      "meow\n",
      "meow\n",
      "meow\n",
      "meow\n",
      "meow\n"
     ]
    }
   ],
   "source": [
    "## Add a type hint instead of explicitly converting input that user enters to int\n",
    "\n",
    "def meow(n: int): ## added a hint for n to be int\n",
    "    for _ in range(n):\n",
    "        print(\"meow\")\n",
    "\n",
    "number: int= int(input(\"number: \"))\n",
    "meow(number)"
   ]
  },
  {
   "cell_type": "code",
   "execution_count": null,
   "metadata": {},
   "outputs": [],
   "source": [
    "def meow(n: int) -> None: ## shows what is the return value of a function\n",
    "    for _ in range(n):\n",
    "        print(\"meow\")\n",
    "\n",
    "number: int= int(input(\"number: \"))\n",
    "meow(number)"
   ]
  },
  {
   "cell_type": "code",
   "execution_count": 29,
   "metadata": {},
   "outputs": [
    {
     "name": "stdout",
     "output_type": "stream",
     "text": [
      "meow\n",
      "meow\n",
      "meow\n",
      "meow\n"
     ]
    }
   ],
   "source": [
    "def meow(n: int) -> str: ## shows what is the return value of a function\n",
    "    return \"meow\\n\"*n\n",
    "\n",
    "number: int= int(input(\"number: \"))\n",
    "meows: str = meow(number)\n",
    "print(meows, end=\"\")"
   ]
  },
  {
   "cell_type": "markdown",
   "metadata": {},
   "source": [
    "### DOCSTRINGS"
   ]
  },
  {
   "cell_type": "markdown",
   "metadata": {},
   "source": [
    "### \"\"\"You can write your docu strings here as comments etc in python\"\"\". it can either be double quotes or triple quotes"
   ]
  },
  {
   "cell_type": "code",
   "execution_count": null,
   "metadata": {},
   "outputs": [],
   "source": [
    "def meow(n: int) -> str: ## shows what is the return value of a function\n",
    "    \"\"\"Meow n times.\n",
    "    :param n: Number of times to meow\n",
    "    :type n: int\n",
    "    :raise TypeError: if n is not an int    \n",
    "    \"\"\"\n",
    "    return \"meow\\n\"*n\n",
    "\n",
    "number: int= int(input(\"number: \"))\n",
    "meows: str = meow(number)\n",
    "print(meows, end=\"\")"
   ]
  },
  {
   "cell_type": "markdown",
   "metadata": {},
   "source": [
    "### ARGPARSE"
   ]
  },
  {
   "cell_type": "code",
   "execution_count": 30,
   "metadata": {},
   "outputs": [
    {
     "name": "stdout",
     "output_type": "stream",
     "text": [
      "usage: meows.py\n"
     ]
    }
   ],
   "source": [
    "import sys\n",
    "\n",
    "if len(sys.argv) ==1:\n",
    "    print(\"meow\")\n",
    "\n",
    "else:\n",
    "    print(\"usage: meows.py\")"
   ]
  },
  {
   "cell_type": "code",
   "execution_count": 10,
   "metadata": {},
   "outputs": [
    {
     "name": "stderr",
     "output_type": "stream",
     "text": [
      "usage: ipykernel_launcher.py [-h] [-n N]\n",
      "ipykernel_launcher.py: error: unrecognized arguments: --f=\"c:\\Users\\Sahil Patel\\AppData\\Roaming\\jupyter\\runtime\\kernel-v2-1987231LdXe1OVoo6.json\"\n"
     ]
    },
    {
     "ename": "SystemExit",
     "evalue": "2",
     "output_type": "error",
     "traceback": [
      "An exception has occurred, use %tb to see the full traceback.\n",
      "\u001b[1;31mSystemExit\u001b[0m\u001b[1;31m:\u001b[0m 2\n"
     ]
    },
    {
     "name": "stderr",
     "output_type": "stream",
     "text": [
      "C:\\Users\\Sahil Patel\\AppData\\Roaming\\Python\\Python311\\site-packages\\IPython\\core\\interactiveshell.py:3585: UserWarning: To exit: use 'exit', 'quit', or Ctrl-D.\n",
      "  warn(\"To exit: use 'exit', 'quit', or Ctrl-D.\", stacklevel=1)\n"
     ]
    }
   ],
   "source": [
    "import argparse\n",
    "\n",
    "parser  = argparse.ArgumentParser()\n",
    "parser.add_argument(\"-n\")\n",
    "args = parser.parse_args()\n",
    "\n",
    "for _ in range(args.n):\n",
    "    print(\"meow\")\n",
    "\n"
   ]
  },
  {
   "cell_type": "markdown",
   "metadata": {},
   "source": [
    "### Unpacking"
   ]
  },
  {
   "cell_type": "code",
   "execution_count": 31,
   "metadata": {},
   "outputs": [
    {
     "name": "stdout",
     "output_type": "stream",
     "text": [
      "hello, riddhi\n"
     ]
    }
   ],
   "source": [
    "first, last = input(\"whats your name?\").split(\" \")\n",
    "\n",
    "print(f\"hello, {first}\")\n"
   ]
  },
  {
   "cell_type": "code",
   "execution_count": 36,
   "metadata": {},
   "outputs": [
    {
     "name": "stdout",
     "output_type": "stream",
     "text": [
      "50775 knuts\n"
     ]
    }
   ],
   "source": [
    "def total(gal, sic, knuts):\n",
    "    return (gal*17+sic)*29+knuts\n",
    "\n",
    "coins=[100,50,25]\n",
    "\n",
    "print(total(coins[0],coins[1],coins[2]), \"knuts\")\n",
    "\n"
   ]
  },
  {
   "cell_type": "code",
   "execution_count": 38,
   "metadata": {},
   "outputs": [
    {
     "name": "stdout",
     "output_type": "stream",
     "text": [
      "50775 knuts\n"
     ]
    }
   ],
   "source": [
    "## Here the * is going to be used to unpack the values in the list coins so total gets 3 arguments as expected from the list\n",
    "## it is an equivalent of comma separated list, it can only be used when we want to unpack list values and pass with a comma\n",
    "## Only 1 * can be used to unpack a list where as two ** to unpack a dictionary\n",
    "\n",
    "def total(gal, sic, knuts):\n",
    "    return (gal*17+sic)*29+knuts\n",
    "\n",
    "coins=[100,50,25]\n",
    "\n",
    "print(total(*coins), \"knuts\")"
   ]
  },
  {
   "cell_type": "code",
   "execution_count": 39,
   "metadata": {},
   "outputs": [
    {
     "name": "stdout",
     "output_type": "stream",
     "text": [
      "50775 knuts\n"
     ]
    }
   ],
   "source": [
    "## FOr dictionaries you use two ** and that would unpack a dictionary\n",
    "## it will pass on 3 values with names (keys) to the argument set\n",
    "\n",
    "def total(gal, sic, knuts):\n",
    "    return (gal*17+sic)*29+knuts\n",
    "\n",
    "coins={\"gal\": 100, \"sic\":50,\"knuts\":25}\n",
    "\n",
    "print(total(**coins), \"knuts\") ## this is equivalent to the below line of code that is commented out\n",
    "## print(total(gal=100, sic=50, knuts= 25),\"knuts\")\n"
   ]
  },
  {
   "cell_type": "markdown",
   "metadata": {},
   "source": [
    "### *ARGS & **KWARGS"
   ]
  },
  {
   "cell_type": "markdown",
   "metadata": {},
   "source": [
    "#### *ARGS take positional arguments and **KWARGS take named arguments"
   ]
  },
  {
   "cell_type": "code",
   "execution_count": 11,
   "metadata": {},
   "outputs": [
    {
     "name": "stdout",
     "output_type": "stream",
     "text": [
      "Positional:  (100, 50, 25)\n",
      "Named:  {}\n",
      "Positional:  ()\n",
      "Named:  {'gal': 100, 'sic': 50, 'knuts': 25}\n"
     ]
    }
   ],
   "source": [
    "## Positional arguments will just use the position in the arguments sepearated by comma but Named arguments will\n",
    "## take the name as well as indicated below (name= value) as an argument\n",
    "\n",
    "def f(*args, **kwargs):\n",
    "    print(\"Positional: \", args)\n",
    "    print(\"Named: \", kwargs)\n",
    "\n",
    "\n",
    "f(100,50,25)\n",
    "f(gal=100,sic=50, knuts=25)"
   ]
  },
  {
   "cell_type": "markdown",
   "metadata": {},
   "source": [
    "### MAP"
   ]
  },
  {
   "cell_type": "markdown",
   "metadata": {},
   "source": [
    "#### this allows you to apply some function to the values of sequence of list\n",
    "#### By Default - it takes two arguments: 1. the function to be applied to the list, & 2. the list itself"
   ]
  },
  {
   "cell_type": "code",
   "execution_count": 44,
   "metadata": {},
   "outputs": [
    {
     "name": "stdout",
     "output_type": "stream",
     "text": [
      "THIS IS CS50 COURSE\n"
     ]
    }
   ],
   "source": [
    "## simple method to upper case a phrase\n",
    "\n",
    "def main():\n",
    "    yell(\"this is CS50 course\")\n",
    "\n",
    "def yell(word):\n",
    "    print(word.upper())\n",
    "\n",
    "if __name__== \"__main__\":\n",
    "    main()"
   ]
  },
  {
   "cell_type": "code",
   "execution_count": 49,
   "metadata": {},
   "outputs": [
    {
     "name": "stdout",
     "output_type": "stream",
     "text": [
      "THIS IS CS50 COURSE\n"
     ]
    }
   ],
   "source": [
    "## we can also do that using a list if our words are broken down by comma or quotes - as shown here\n",
    "\n",
    "def main():\n",
    "    yell(\"this\", \"is\" ,\"CS50\", \"course\")\n",
    "\n",
    "def yell(*words):\n",
    "    uppercase=[]\n",
    "    for word in words:\n",
    "        uppercase.append(word.upper())\n",
    "    print(*uppercase) ## this will unpack the list and print it without quotes and commas\n",
    "\n",
    "if __name__== \"__main__\":\n",
    "    main()"
   ]
  },
  {
   "cell_type": "code",
   "execution_count": 52,
   "metadata": {},
   "outputs": [
    {
     "name": "stdout",
     "output_type": "stream",
     "text": [
      "THIS IS CS50 COURSE\n"
     ]
    }
   ],
   "source": [
    "## this is how we do it using maps now:\n",
    "\n",
    "def main():\n",
    "    yell(\"this\", \"is\" ,\"CS50\", \"course\")\n",
    "\n",
    "def yell(*words):\n",
    "    uppercase=map(str.upper, words) ## arguments here are function called upper without () as map will apply it by itself\n",
    "    print(*uppercase) ## this will unpack the list and print it without quotes and commas\n",
    "\n",
    "if __name__== \"__main__\":\n",
    "    main()"
   ]
  },
  {
   "cell_type": "markdown",
   "metadata": {},
   "source": [
    "### LIST COMPREHENSION"
   ]
  },
  {
   "cell_type": "markdown",
   "metadata": {},
   "source": [
    "#### This is an easier way as compared to MAPS as seen above. \n",
    "#### Everything is passed onto one line here and created a list on the fly"
   ]
  },
  {
   "cell_type": "code",
   "execution_count": 53,
   "metadata": {},
   "outputs": [
    {
     "name": "stdout",
     "output_type": "stream",
     "text": [
      "THIS IS CS50 COURSE\n"
     ]
    }
   ],
   "source": [
    "def main():\n",
    "    yell(\"this\", \"is\" ,\"CS50\", \"course\")\n",
    "\n",
    "def yell(*words):\n",
    "    uppercase=[word.upper() for word in words]\n",
    "    print(*uppercase) ## this will unpack the list and print it without quotes and commas\n",
    "\n",
    "if __name__== \"__main__\":\n",
    "    main()"
   ]
  },
  {
   "cell_type": "code",
   "execution_count": 57,
   "metadata": {},
   "outputs": [
    {
     "name": "stdout",
     "output_type": "stream",
     "text": [
      "Sahil\n",
      "Viddhi\n"
     ]
    }
   ],
   "source": [
    "students = [\n",
    "    {\"name\":\"Viddhi\", \"house\":\"vadodara\"},\n",
    "    {\"name\":\"Sahil\", \"house\":\"vadodara\"},\n",
    "    {\"name\":\"Naishadh\", \"house\":\"jamnagar\"},\n",
    "    {\"name\":\"Pahini\", \"house\":\"surat\"},\n",
    "    {\"name\":\"Akash\", \"house\":\"ahmedabad\"}\n",
    "]\n",
    "\n",
    "housy = [ student[\"name\"] for student in students if student[\"house\"] == \"vadodara\"]\n",
    "\n",
    "for housys in sorted(housy):\n",
    "    print(housys)\n",
    "\n"
   ]
  },
  {
   "cell_type": "markdown",
   "metadata": {},
   "source": [
    "### Filter Function\n",
    "#### A MAP function will return everything from the list whereas a FILTER function will actually filter out anythin the list first and then return the list values\n",
    "#### A Filter function by default takes two arguments: 1. the function that returns boolean value on the basis of which should we filter the list without () , filter will call this function by itself and 2. it takes the list itself that needs to be filtered"
   ]
  },
  {
   "cell_type": "code",
   "execution_count": 59,
   "metadata": {},
   "outputs": [
    {
     "name": "stdout",
     "output_type": "stream",
     "text": [
      "Sahil\n",
      "Viddhi\n"
     ]
    }
   ],
   "source": [
    "students = [\n",
    "    {\"name\":\"Viddhi\", \"house\":\"vadodara\"},\n",
    "    {\"name\":\"Sahil\", \"house\":\"vadodara\"},\n",
    "    {\"name\":\"Naishadh\", \"house\":\"jamnagar\"},\n",
    "    {\"name\":\"Pahini\", \"house\":\"surat\"},\n",
    "    {\"name\":\"Akash\", \"house\":\"ahmedabad\"}\n",
    "]\n",
    "\n",
    "def is_vadodara(s):\n",
    "    if s[\"house\"] == \"vadodara\":\n",
    "        return True\n",
    "    else:\n",
    "        return False\n",
    "    \n",
    "    ##return s[\"house\"] == \"vadodara\"   -- this line can be written to avoid multiple lines shown above for a boolean return value\n",
    "\n",
    "\n",
    "housy= filter(is_vadodara, students) ## no need for () here as filter will call this function for us and apply the () just like MAP\n",
    "\n",
    "for housys in sorted(housy, key= lambda s: s[\"name\"]):  ## this is how we sort elements of a dictionary here\n",
    "    print(housys[\"name\"])  \n"
   ]
  },
  {
   "cell_type": "markdown",
   "metadata": {},
   "source": [
    "### DICTIONARY COMPREHENSIONS"
   ]
  },
  {
   "cell_type": "code",
   "execution_count": 61,
   "metadata": {},
   "outputs": [
    {
     "name": "stdout",
     "output_type": "stream",
     "text": [
      "[{'name': 'riddhi', 'house': 'gryffindor'}, {'name': 'sahil', 'house': 'gryffindor'}, {'name': 'uno', 'house': 'gryffindor'}]\n"
     ]
    }
   ],
   "source": [
    "## say for example here we want to build a list of students with dictionary of students that have house as griffindor only\n",
    "\n",
    "students = [\"riddhi\",\"sahil\",\"uno\"]\n",
    "\n",
    "gryffindors= []\n",
    "\n",
    "for student in students:\n",
    "    gryffindors.append({\"name\": student,\"house\":\"gryffindor\"})\n",
    "\n",
    "print(gryffindors)\n",
    "\n"
   ]
  },
  {
   "cell_type": "code",
   "execution_count": 62,
   "metadata": {},
   "outputs": [
    {
     "name": "stdout",
     "output_type": "stream",
     "text": [
      "[{'name': 'riddhi', 'house': 'griffindor'}, {'name': 'sahil', 'house': 'griffindor'}, {'name': 'uno', 'house': 'griffindor'}]\n"
     ]
    }
   ],
   "source": [
    "## COmprehending list here\n",
    "\n",
    "students = [\"riddhi\",\"sahil\",\"uno\"]\n",
    "\n",
    "gryffindors = [{\"name\":student, \"house\":\"griffindor\"} for student in students]\n",
    "print(gryffindors)"
   ]
  },
  {
   "cell_type": "code",
   "execution_count": 63,
   "metadata": {},
   "outputs": [
    {
     "name": "stdout",
     "output_type": "stream",
     "text": [
      "{'riddhi': 'gryffindor', 'sahil': 'gryffindor', 'uno': 'gryffindor'}\n"
     ]
    }
   ],
   "source": [
    "## if we only want the key and value as output instead of a list and a dictionary within for each object\n",
    "## we use dictionary comprehension here\n",
    "\n",
    "students = [\"riddhi\",\"sahil\",\"uno\"]\n",
    "\n",
    "gryffindors = {student: \"gryffindor\" for student in students}\n",
    "print(gryffindors)"
   ]
  },
  {
   "cell_type": "markdown",
   "metadata": {},
   "source": [
    "### Enumerate"
   ]
  },
  {
   "cell_type": "markdown",
   "metadata": {},
   "source": [
    "#### if we want to retunr not just the value but also the index of the value, then we use enumerate\n",
    "#### it takes two arguments 1. Iterable (list through which we will iterate it over) & 2. start=0"
   ]
  },
  {
   "cell_type": "code",
   "execution_count": 64,
   "metadata": {},
   "outputs": [
    {
     "name": "stdout",
     "output_type": "stream",
     "text": [
      "1 riddhi\n",
      "2 sahil\n",
      "3 uno\n"
     ]
    }
   ],
   "source": [
    "## SImple method to do this - indexing the lists\n",
    "\n",
    "students = [\"riddhi\",\"sahil\",\"uno\"]\n",
    "\n",
    "for i in range(len(students)):\n",
    "    print(i+1, students[i])\n",
    "\n",
    "\n"
   ]
  },
  {
   "cell_type": "code",
   "execution_count": 4,
   "metadata": {},
   "outputs": [
    {
     "name": "stdout",
     "output_type": "stream",
     "text": [
      "1 riddhi\n",
      "2 des\n"
     ]
    }
   ],
   "source": [
    "## using the enumerate function\n",
    "\n",
    "students = [[\"riddhi\",\"sahil\",\"uno\"],[\"des\",\"red\",\"ted\"]]\n",
    "\n",
    "for i, student in enumerate(students, start=1):\n",
    "    print(i,student[0])"
   ]
  },
  {
   "cell_type": "markdown",
   "metadata": {},
   "source": [
    "### GENERATORS"
   ]
  },
  {
   "cell_type": "markdown",
   "metadata": {},
   "source": [
    "#### when you run your program, you may run out of space on your program"
   ]
  },
  {
   "cell_type": "code",
   "execution_count": 70,
   "metadata": {},
   "outputs": [
    {
     "name": "stdout",
     "output_type": "stream",
     "text": [
      "\n",
      "🐑\n",
      "🐑🐑\n",
      "🐑🐑🐑\n",
      "🐑🐑🐑🐑\n"
     ]
    }
   ],
   "source": [
    "n= int(input(\"count of sheep:\"))\n",
    "\n",
    "for i in range(n):\n",
    "    print(\"🐑\"*i)"
   ]
  },
  {
   "cell_type": "code",
   "execution_count": 71,
   "metadata": {},
   "outputs": [
    {
     "name": "stdout",
     "output_type": "stream",
     "text": [
      "\n",
      "🐑\n",
      "🐑🐑\n",
      "🐑🐑🐑\n",
      "🐑🐑🐑🐑\n"
     ]
    }
   ],
   "source": [
    "def main():\n",
    "    n= int(input(\"count of sheep:\"))\n",
    "    for i in range(n):\n",
    "        print(sheep(i))\n",
    "\n",
    "def sheep(n):\n",
    "    return \"🐑\"*n\n",
    "\n",
    "if __name__==\"__main__\":\n",
    "    main()"
   ]
  },
  {
   "cell_type": "markdown",
   "metadata": {},
   "source": [
    "### GENERATORS\n",
    "#### YIELD: it returns onev alue at a time instead of returning eveything together, consuming your memory by a lot"
   ]
  },
  {
   "cell_type": "code",
   "execution_count": 78,
   "metadata": {},
   "outputs": [
    {
     "name": "stdout",
     "output_type": "stream",
     "text": [
      "\n",
      "🐑\n",
      "🐑🐑\n",
      "🐑🐑🐑\n",
      "🐑🐑🐑🐑\n",
      "🐑🐑🐑🐑🐑\n",
      "🐑🐑🐑🐑🐑🐑\n",
      "🐑🐑🐑🐑🐑🐑🐑\n",
      "🐑🐑🐑🐑🐑🐑🐑🐑\n",
      "🐑🐑🐑🐑🐑🐑🐑🐑🐑\n"
     ]
    }
   ],
   "source": [
    "def main():\n",
    "    n= int(input(\"count of sheep:\"))\n",
    "    for s in sheep(n):\n",
    "        print(s)\n",
    "\n",
    "def sheep(n):\n",
    "    for i in range(n):\n",
    "        yield \"🐑\"*i\n",
    "\n",
    "if __name__==\"__main__\":\n",
    "    main()"
   ]
  },
  {
   "cell_type": "markdown",
   "metadata": {},
   "source": [
    "### FInal program using cowsay and python text to speech library"
   ]
  },
  {
   "cell_type": "code",
   "execution_count": 81,
   "metadata": {},
   "outputs": [
    {
     "name": "stdout",
     "output_type": "stream",
     "text": [
      "Collecting cowsay\n",
      "  Downloading cowsay-6.1-py3-none-any.whl (25 kB)\n",
      "Installing collected packages: cowsay\n",
      "Successfully installed cowsay-6.1\n",
      "Note: you may need to restart the kernel to use updated packages.\n"
     ]
    }
   ],
   "source": [
    "pip install cowsay"
   ]
  },
  {
   "cell_type": "code",
   "execution_count": 83,
   "metadata": {},
   "outputs": [
    {
     "name": "stdout",
     "output_type": "stream",
     "text": [
      "Collecting pyttsx3Note: you may need to restart the kernel to use updated packages.\n",
      "\n",
      "  Downloading pyttsx3-2.90-py3-none-any.whl (39 kB)\n",
      "Collecting comtypes (from pyttsx3)\n",
      "  Downloading comtypes-1.4.4-py3-none-any.whl (210 kB)\n",
      "                                              0.0/210.6 kB ? eta -:--:--\n",
      "     -------------------------------------- 210.6/210.6 kB 6.5 MB/s eta 0:00:00\n",
      "Collecting pypiwin32 (from pyttsx3)\n",
      "  Downloading pypiwin32-223-py3-none-any.whl (1.7 kB)\n",
      "Requirement already satisfied: pywin32 in c:\\users\\sahil patel\\appdata\\roaming\\python\\python311\\site-packages (from pyttsx3) (306)\n",
      "Installing collected packages: pypiwin32, comtypes, pyttsx3\n",
      "Successfully installed comtypes-1.4.4 pypiwin32-223 pyttsx3-2.90\n"
     ]
    }
   ],
   "source": [
    "pip install pyttsx3"
   ]
  },
  {
   "cell_type": "code",
   "execution_count": 86,
   "metadata": {},
   "outputs": [
    {
     "name": "stdout",
     "output_type": "stream",
     "text": [
      "  ______________________________________\n",
      "| I am your friend and my name is riddhi |\n",
      "  ======================================\n",
      "                                      \\\n",
      "                                       \\\n",
      "                                         ^__^\n",
      "                                         (oo)\\_______\n",
      "                                         (__)\\       )\\/\\\n",
      "                                             ||----w |\n",
      "                                             ||     ||\n"
     ]
    }
   ],
   "source": [
    "\n",
    "import cowsay\n",
    "import pyttsx3\n",
    "\n",
    "engine = pyttsx3.init()\n",
    "this = input(\"whats this? \")\n",
    "cowsay.cow(this)\n",
    "engine.say(this)\n",
    "engine.runAndWait()\n"
   ]
  },
  {
   "cell_type": "code",
   "execution_count": null,
   "metadata": {},
   "outputs": [],
   "source": []
  }
 ],
 "metadata": {
  "kernelspec": {
   "display_name": "base",
   "language": "python",
   "name": "python3"
  },
  "language_info": {
   "codemirror_mode": {
    "name": "ipython",
    "version": 3
   },
   "file_extension": ".py",
   "mimetype": "text/x-python",
   "name": "python",
   "nbconvert_exporter": "python",
   "pygments_lexer": "ipython3",
   "version": "3.11.3"
  }
 },
 "nbformat": 4,
 "nbformat_minor": 2
}
